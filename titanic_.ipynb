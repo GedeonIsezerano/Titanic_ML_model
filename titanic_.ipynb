{
 "cells": [
  {
   "cell_type": "code",
   "execution_count": null,
   "id": "6cd902fa",
   "metadata": {},
   "outputs": [],
   "source": [
    "import numpy as np\n",
    "import pandas as pd\n",
    "import xgboost as xgb\n",
    "import matplotlib.pyplot as plt\n",
    "import tensorflow as tf\n",
    "from tensorflow.keras.models import Sequential\n",
    "from tensorflow.keras.layers import Dense\n",
    "\n",
    "\n",
    "from sklearn.model_selection import train_test_split #splitting data\n",
    "from sklearn.metrics import balanced_accuracy_score, roc_auc_score, make_scorer # scoring\n",
    "from sklearn.model_selection import GridSearchCV\n",
    "from sklearn.metrics import confusion_matrix\n",
    "from sklearn.metrics import plot_confusion_matrix\n",
    "%matplotlib inline\n",
    "pd.set_option('display.max_rows', 1000)\n",
    "pd.set_option('display.max_columns', 1000)\n",
    "pd.set_option('display.width', 1000)\n"
   ]
  },
  {
   "cell_type": "code",
   "execution_count": null,
   "id": "db5a633a",
   "metadata": {
    "scrolled": true,
    "tags": []
   },
   "outputs": [],
   "source": [
    "\n",
    "#Clean Data\n",
    "raw = pd.read_csv('train.csv')\n",
    "\n",
    "#Unnecessary features\n",
    "del raw['Cabin']\n",
    "del raw['Ticket']\n",
    "del raw['Name']\n",
    "del raw['PassengerId']\n",
    "\n",
    "raw = raw.dropna(how = 'any')\n",
    "\n",
    "\n",
    "\n",
    "#on-hot enconde all features that are categorical\n",
    "\n",
    "\n",
    "raw['Parch_0'] = raw['Parch'].replace([0,1,2],[1,0,0])\n",
    "raw['Parch_1'] = raw['Parch'].replace([0,1,2],[0,1,0])\n",
    "raw['Parch_2'] = raw['Parch'].replace([0,1,2],[0,0,1])\n",
    "\n",
    "raw['Pclass_1'] = raw['Pclass'].replace([1,2,3],[1,0,0])\n",
    "raw['Pclass_2'] = raw['Pclass'].replace([1,2,3],[0,1,0])\n",
    "raw['Pclass_3'] = raw['Pclass'].replace([1,2,3],[0,0,1])\n",
    "\n",
    "raw['SibSp_0'] = raw['SibSp'].replace([0,1,2,3,4,5],[1,0,0,0,0,0])\n",
    "raw['SibSp_1'] = raw['SibSp'].replace([0,1,2,3,4,5],[0,1,0,0,0,0])\n",
    "raw['SibSp_2'] = raw['SibSp'].replace([0,1,2,3,4,5],[0,0,1,0,0,0])\n",
    "raw['SibSp_3'] = raw['SibSp'].replace([0,1,2,3,4,5],[0,0,0,1,0,0])\n",
    "raw['SibSp_4'] = raw['SibSp'].replace([0,1,2,3,4,5],[0,0,0,0,1,0])\n",
    "raw['SibSp_5'] = raw['SibSp'].replace([0,1,2,3,4,5],[0,0,0,0,0,1])\n",
    "del raw['SibSp']\n",
    "\n",
    "del raw['Parch']\n",
    "del raw['Pclass']\n",
    "\n",
    "\n",
    "#Set up inputs and outputs\n",
    "X = raw.drop('Survived',axis=1).copy()\n",
    "X_encoded = pd.get_dummies(X, columns=['Embarked','Sex'])\n",
    "y = raw['Survived'].copy()\n",
    "\n",
    "raw.head()\n"
   ]
  },
  {
   "cell_type": "code",
   "execution_count": null,
   "id": "b5353770",
   "metadata": {},
   "outputs": [],
   "source": [
    "sum(y)/len(y)"
   ]
  },
  {
   "cell_type": "code",
   "execution_count": null,
   "id": "f96b2d7d",
   "metadata": {},
   "outputs": [],
   "source": [
    "#BUILD LE TREE\n",
    "X_train, X_test, y_train, y_test = train_test_split(X_encoded,y, random_state = 42, stratify = y)\n",
    "X_train.shape"
   ]
  },
  {
   "cell_type": "code",
   "execution_count": null,
   "id": "1059fe76",
   "metadata": {},
   "outputs": [],
   "source": [
    "#Check to see if both the train set and test set have the same percentage of people who survived\n",
    "(sum(y_test)/len(y_test)) == (sum(y_train)/len(y_train))"
   ]
  },
  {
   "cell_type": "code",
   "execution_count": null,
   "id": "468e0910",
   "metadata": {
    "scrolled": true,
    "tags": []
   },
   "outputs": [],
   "source": [
    "#BUILD LE TREE\n",
    "clf_xgb= xgb.XGBClassifier(objective ='binary:logistic', seed = 42)\n",
    "clf_xgb.fit(X_train,\n",
    "            y_train,\n",
    "            verbose = True,\n",
    "            early_stopping_rounds=10,\n",
    "            eval_metric ='aucpr',\n",
    "            eval_set = [(X_test,y_test)])"
   ]
  },
  {
   "cell_type": "code",
   "execution_count": null,
   "id": "7566b68c",
   "metadata": {},
   "outputs": [],
   "source": [
    "plot_confusion_matrix(clf_xgb,\n",
    "                      X_test,\n",
    "                      y_test,\n",
    "                      values_format = 'd')"
   ]
  },
  {
   "cell_type": "code",
   "execution_count": null,
   "id": "034d9187",
   "metadata": {
    "scrolled": true
   },
   "outputs": [],
   "source": [
    "#Optimize: --DOES NOT OPTIMIZE :(\n",
    "\n",
    "##Step 1\n",
    "param_grid1 = {\n",
    "    'max_depth':[4,5,6,7],\n",
    "    'learn_rate':[0.01,0.1,0.3,0.5],\n",
    "    'gamma':[0,0.01,0.25,1],\n",
    "    'reg_lambda':[0,0.01,0.11,5,],\n",
    "    'scale_pos_weight':[1,3,5]\n",
    "}\n",
    "\n",
    "param_grid2 = {\n",
    "    'max_depth':[7],\n",
    "    'learn_rate':[0.001,0.01,0.1],\n",
    "    'gamma':[0.02,0.25,1],\n",
    "    'reg_lambda':[5],\n",
    "    'scale_pos_weight':[1,3]\n",
    "}\n",
    "\n",
    "\n",
    "optimal_params = GridSearchCV(\n",
    "    estimator = xgb.XGBClassifier(objective= 'binary:logistic',\n",
    "                                  seed= 42,\n",
    "                                  subsample= 0.9,\n",
    "                                  colsample_bytree= 0.5),\n",
    "    param_grid = param_grid2,\n",
    "    scoring= 'roc_auc',\n",
    "    verbose = 0,\n",
    "    n_jobs = 10,\n",
    "    cv = 10\n",
    ")\n",
    "\n",
    "\n",
    "optimal_params.fit(\n",
    "            X_train,\n",
    "            y_train,\n",
    "            verbose = True,\n",
    "            early_stopping_rounds=10,\n",
    "            eval_metric ='aucpr',\n",
    "            eval_set = [(X_test,y_test)]\n",
    ")\n",
    "\n",
    "print(optimal_params.best_params_)"
   ]
  },
  {
   "cell_type": "code",
   "execution_count": null,
   "id": "87b3b1fc",
   "metadata": {},
   "outputs": [],
   "source": [
    "#Final model --PERFORMES POORLY COMPARED TO INITIAL\n",
    "clf_xgb= xgb.XGBClassifier(objective ='binary:logistic', \n",
    "                           seed = 42,\n",
    "                           gamma =0.25,\n",
    "                           learn_rate = 0.001,\n",
    "                           max_depth = 6,\n",
    "                           reg_lambda = 5,\n",
    "                           scale_pos_weight= 3,\n",
    "                           subsample = 0.9,\n",
    "                           colsample_bytree = 0.5)\n",
    "clf_xgb.fit(X_train,\n",
    "            y_train,\n",
    "            verbose = True,\n",
    "            early_stopping_rounds=10,\n",
    "            eval_metric ='aucpr',\n",
    "            eval_set = [(X_test,y_test)])"
   ]
  },
  {
   "cell_type": "code",
   "execution_count": null,
   "id": "5acf4a25",
   "metadata": {},
   "outputs": [],
   "source": [
    "#Print confusion tree again\n",
    "plot_confusion_matrix(clf_xgb,\n",
    "                      X_test,\n",
    "                      y_test,\n",
    "                      values_format = 'd')"
   ]
  },
  {
   "cell_type": "code",
   "execution_count": null,
   "id": "c48085d7-6fbb-4b9c-bfce-df60802feb13",
   "metadata": {},
   "outputs": [],
   "source": []
  },
  {
   "cell_type": "code",
   "execution_count": null,
   "id": "feafd675-d307-4193-99ed-646a35014ace",
   "metadata": {},
   "outputs": [],
   "source": []
  }
 ],
 "metadata": {
  "kernelspec": {
   "display_name": "Python 3 (ipykernel)",
   "language": "python",
   "name": "python3"
  },
  "language_info": {
   "codemirror_mode": {
    "name": "ipython",
    "version": 3
   },
   "file_extension": ".py",
   "mimetype": "text/x-python",
   "name": "python",
   "nbconvert_exporter": "python",
   "pygments_lexer": "ipython3",
   "version": "3.9.12"
  }
 },
 "nbformat": 4,
 "nbformat_minor": 5
}
